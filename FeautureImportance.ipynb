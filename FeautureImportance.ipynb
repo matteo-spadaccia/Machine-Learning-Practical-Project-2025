{
 "cells": [
  {
   "cell_type": "code",
   "execution_count": 2,
   "id": "2ac42c48-33e1-4c83-b62a-e7641b5be3cc",
   "metadata": {},
   "outputs": [
    {
     "name": "stdout",
     "output_type": "stream",
     "text": [
      "Null Values 0\n"
     ]
    }
   ],
   "source": [
    "import pandas as pd\n",
    "import numpy as np\n",
    "file_path = \"data/VOC-ALS.xlsx\" \n",
    "voc_als = pd.read_excel(file_path, header=1, engine=\"openpyxl\")\n",
    "voc_als.columns = voc_als.columns.str.strip()\n",
    "print(\"Null Values\", voc_als.isnull().sum().sum())\n"
   ]
  },
  {
   "cell_type": "code",
   "execution_count": 3,
   "id": "9d8e0f15-3e91-42a3-b434-6ad52f72d9c1",
   "metadata": {},
   "outputs": [
    {
     "name": "stdout",
     "output_type": "stream",
     "text": [
      "  Category  ALSFRS-R_TotalScore  Severity_Score\n",
      "0       HC                   48               0\n",
      "1       HC                   48               0\n",
      "2       HC                   48               0\n",
      "3       HC                   48               0\n",
      "4       HC                   48               0\n",
      " Null Values in Severity_Score 0\n"
     ]
    }
   ],
   "source": [
    "#Severity Score\n",
    "voc_als[\"Severity_Score\"] = voc_als.apply(\n",
    "    lambda row: 0 if row[\"Category\"] == \"HC\" else 48 - row[\"ALSFRS-R_TotalScore\"],\n",
    "    axis=1\n",
    ")\n",
    "print(voc_als[[\"Category\", \"ALSFRS-R_TotalScore\", \"Severity_Score\"]].head())\n",
    "\n",
    "# Null values\n",
    "print(\" Null Values in Severity_Score\", voc_als[\"Severity_Score\"].isna().sum())\n"
   ]
  },
  {
   "cell_type": "code",
   "execution_count": 4,
   "id": "07818437-5fc8-42f8-80f7-42d2a027e9fa",
   "metadata": {},
   "outputs": [
    {
     "name": "stdout",
     "output_type": "stream",
     "text": [
      "Features ['meanF0Hz_A', 'stdevF0Hz_A', 'HNR_A', 'localJitter_A', 'localShimmer_A', 'meanF0Hz_E', 'stdevF0Hz_E', 'HNR_E', 'localJitter_E', 'localShimmer_E', 'meanF0Hz_I', 'stdevF0Hz_I', 'HNR_I', 'localJitter_I', 'localShimmer_I', 'meanF0Hz_O', 'stdevF0Hz_O', 'HNR_O', 'localJitter_O', 'localShimmer_O', 'meanF0Hz_U', 'stdevF0Hz_U', 'HNR_U', 'localJitter_U', 'localShimmer_U', 'meanF0Hz_PA', 'stdevF0Hz_PA', 'HNR_PA', 'localJitter_PA', 'localShimmer_PA', 'meanF0Hz_TA', 'stdevF0Hz_TA', 'HNR_TA', 'localJitter_TA', 'localShimmer_TA', 'meanF0Hz_KA', 'stdevF0Hz_KA', 'HNR_KA', 'localJitter_KA', 'localShimmer_KA']\n",
      "Feature Shape (153, 40), Target Shape: (153,)\n"
     ]
    }
   ],
   "source": [
    "#Feature Selection\n",
    "voc_als_features = voc_als.iloc[:, 32:].copy()  \n",
    "X = voc_als_features.drop(columns=[\"Severity_Score\"], errors=\"ignore\")\n",
    "y = voc_als[\"Severity_Score\"]\n",
    "\n",
    "print(\"Features\", X.columns.tolist())\n",
    "print(f\"Feature Shape {X.shape}, Target Shape: {y.shape}\")\n"
   ]
  },
  {
   "cell_type": "code",
   "execution_count": 5,
   "id": "ee44f92e-5a37-47e9-b80c-92bf460c973e",
   "metadata": {},
   "outputs": [
    {
     "name": "stdout",
     "output_type": "stream",
     "text": [
      "Training set (122, 40)\n",
      "Validation set (15, 40)\n",
      "Test set (16, 40)\n"
     ]
    }
   ],
   "source": [
    "from sklearn.preprocessing import StandardScaler\n",
    "from sklearn.model_selection import train_test_split\n",
    "\n",
    "scaler = StandardScaler()\n",
    "X_scaled = scaler.fit_transform(X)\n",
    "X_scaled_df = pd.DataFrame(X_scaled, columns=X.columns)\n",
    "\n",
    "X_train, X_temp, y_train, y_temp = train_test_split(X_scaled_df, y, test_size=0.2, random_state=42)\n",
    "X_val, X_test, y_val, y_test = train_test_split(X_temp, y_temp, test_size=0.5, random_state=42)\n",
    "\n",
    "print(f\"Training set {X_train.shape}\")\n",
    "print(f\"Validation set {X_val.shape}\")\n",
    "print(f\"Test set {X_test.shape}\")\n",
    "\n"
   ]
  },
  {
   "cell_type": "code",
   "execution_count": 6,
   "id": "d4890fd8-d078-46f7-8260-6e2f9a671de1",
   "metadata": {},
   "outputs": [
    {
     "name": "stdout",
     "output_type": "stream",
     "text": [
      "\n",
      "========================================\n",
      "Training Linear Regression\n",
      "\n",
      " LinearRegression Performance on Training:\n",
      "Mean Absolute Error (MAE): 5.5044\n",
      "Mean Squared Error (MSE): 46.6025\n",
      "Root Mean Squared Error (RMSE): 6.8266\n",
      "R² Score: 0.4935\n",
      "\n",
      " LinearRegression Performance on Validation:\n",
      "Mean Absolute Error (MAE): 8.0369\n",
      "Mean Squared Error (MSE): 122.0870\n",
      "Root Mean Squared Error (RMSE): 11.0493\n",
      "R² Score: -1.2029\n",
      "\n",
      " LinearRegression Performance on Test:\n",
      "Mean Absolute Error (MAE): 9.5277\n",
      "Mean Squared Error (MSE): 170.6937\n",
      "Root Mean Squared Error (RMSE): 13.0650\n",
      "R² Score: -0.9852\n",
      "\n",
      "========================================\n",
      "Training Ridge Regression\n",
      "\n",
      " Ridge Performance on Training:\n",
      "Mean Absolute Error (MAE): 5.6149\n",
      "Mean Squared Error (MSE): 47.1729\n",
      "Root Mean Squared Error (RMSE): 6.8683\n",
      "R² Score: 0.4873\n",
      "\n",
      " Ridge Performance on Validation:\n",
      "Mean Absolute Error (MAE): 6.8880\n",
      "Mean Squared Error (MSE): 93.4728\n",
      "Root Mean Squared Error (RMSE): 9.6681\n",
      "R² Score: -0.6866\n",
      "\n",
      " Ridge Performance on Test:\n",
      "Mean Absolute Error (MAE): 8.5699\n",
      "Mean Squared Error (MSE): 136.7806\n",
      "Root Mean Squared Error (RMSE): 11.6953\n",
      "R² Score: -0.5908\n",
      "\n",
      "========================================\n",
      "Training Lasso Regression\n",
      "\n",
      " Lasso Performance on Training:\n",
      "Mean Absolute Error (MAE): 5.9613\n",
      "Mean Squared Error (MSE): 51.3863\n",
      "Root Mean Squared Error (RMSE): 7.1684\n",
      "R² Score: 0.4415\n",
      "\n",
      " Lasso Performance on Validation:\n",
      "Mean Absolute Error (MAE): 6.1560\n",
      "Mean Squared Error (MSE): 70.0787\n",
      "Root Mean Squared Error (RMSE): 8.3713\n",
      "R² Score: -0.2645\n",
      "\n",
      " Lasso Performance on Test:\n",
      "Mean Absolute Error (MAE): 7.6943\n",
      "Mean Squared Error (MSE): 110.2493\n",
      "Root Mean Squared Error (RMSE): 10.5000\n",
      "R² Score: -0.2822\n",
      "\n",
      "========================================\n",
      "Training Random Forest\n",
      "\n",
      " RandomForestRegressor Performance on Training:\n",
      "Mean Absolute Error (MAE): 3.9838\n",
      "Mean Squared Error (MSE): 20.9990\n",
      "Root Mean Squared Error (RMSE): 4.5825\n",
      "R² Score: 0.7718\n",
      "\n",
      " RandomForestRegressor Performance on Validation:\n",
      "Mean Absolute Error (MAE): 5.4587\n",
      "Mean Squared Error (MSE): 44.8253\n",
      "Root Mean Squared Error (RMSE): 6.6952\n",
      "R² Score: 0.1912\n",
      "\n",
      " RandomForestRegressor Performance on Test:\n",
      "Mean Absolute Error (MAE): 6.8337\n",
      "Mean Squared Error (MSE): 57.1277\n",
      "Root Mean Squared Error (RMSE): 7.5583\n",
      "R² Score: 0.3356\n",
      "\n",
      "========================================\n",
      "Training XGBoost\n",
      "\n",
      " XGBRegressor Performance on Training:\n",
      "Mean Absolute Error (MAE): 0.0017\n",
      "Mean Squared Error (MSE): 0.0000\n",
      "Root Mean Squared Error (RMSE): 0.0024\n",
      "R² Score: 1.0000\n",
      "\n",
      " XGBRegressor Performance on Validation:\n",
      "Mean Absolute Error (MAE): 6.5790\n",
      "Mean Squared Error (MSE): 71.9088\n",
      "Root Mean Squared Error (RMSE): 8.4799\n",
      "R² Score: -0.2975\n",
      "\n",
      " XGBRegressor Performance on Test:\n",
      "Mean Absolute Error (MAE): 7.3717\n",
      "Mean Squared Error (MSE): 70.5696\n",
      "Root Mean Squared Error (RMSE): 8.4006\n",
      "R² Score: 0.1793\n"
     ]
    }
   ],
   "source": [
    "import numpy as np\n",
    "import matplotlib.pyplot as plt\n",
    "import seaborn as sns\n",
    "from sklearn.linear_model import LinearRegression, Ridge, Lasso\n",
    "from sklearn.ensemble import RandomForestRegressor\n",
    "import xgboost as xgb\n",
    "from sklearn.metrics import mean_absolute_error, mean_squared_error, r2_score\n",
    "\n",
    "models = {\n",
    "    \"Linear Regression\": LinearRegression(),\n",
    "    \"Ridge Regression\": Ridge(alpha=1.0),\n",
    "    \"Lasso Regression\": Lasso(alpha=0.1),\n",
    "    \"Random Forest\": RandomForestRegressor(n_estimators=2000, max_depth=5, random_state=42),\n",
    "    \"XGBoost\": xgb.XGBRegressor(n_estimators=200, learning_rate=0.1, max_depth=5, random_state=42)\n",
    "}\n",
    "\n",
    "X_train_filtered = X_train.drop(columns=[\"Severity_Score\", \"Cantagallo_Questionnaire\"], errors=\"ignore\")\n",
    "X_val_filtered = X_val.drop(columns=[\"Severity_Score\", \"Cantagallo_Questionnaire\"], errors=\"ignore\")\n",
    "X_test_filtered = X_test.drop(columns=[\"Severity_Score\", \"Cantagallo_Questionnaire\"], errors=\"ignore\")\n",
    "\n",
    "# Training and Evaluating\n",
    "def evaluate_model(model, X_train, y_train, X_val, y_val, X_test, y_test):\n",
    "    model.fit(X_train, y_train)\n",
    "    y_train_pred = model.predict(X_train)\n",
    "    y_val_pred = model.predict(X_val)\n",
    "    y_test_pred = model.predict(X_test)\n",
    "    \n",
    "    results = {}\n",
    "\n",
    "    for dataset_name, y_true, y_pred in [\n",
    "        (\"Training\", y_train, y_train_pred),\n",
    "        (\"Validation\", y_val, y_val_pred),\n",
    "        (\"Test\", y_test, y_test_pred)\n",
    "    ]:\n",
    "        mae = mean_absolute_error(y_true, y_pred)\n",
    "        mse = mean_squared_error(y_true, y_pred)\n",
    "        rmse = np.sqrt(mse)\n",
    "        r2 = r2_score(y_true, y_pred)\n",
    "\n",
    "        results[dataset_name] = {\"MAE\": mae, \"MSE\": mse, \"RMSE\": rmse, \"R²\": r2}\n",
    "\n",
    "        print(f\"\\n {model.__class__.__name__} Performance on {dataset_name}:\")\n",
    "        print(f\"Mean Absolute Error (MAE): {mae:.4f}\")\n",
    "        print(f\"Mean Squared Error (MSE): {mse:.4f}\")\n",
    "        print(f\"Root Mean Squared Error (RMSE): {rmse:.4f}\")\n",
    "        print(f\"R² Score: {r2:.4f}\")\n",
    "\n",
    "    return results\n",
    "\n",
    "full_results = {}\n",
    "trained_models = {}\n",
    "\n",
    "for name, model in models.items():\n",
    "    print(\"\\n\" + \"=\"*40)\n",
    "    print(f\"Training {name}\")\n",
    "    full_results[name] = evaluate_model(\n",
    "        model, X_train_filtered, y_train, X_val_filtered, y_val, X_test_filtered, y_test\n",
    "    )\n",
    "    trained_models[name] = model  # Store trained models for feature importance\n",
    "\n",
    "\n"
   ]
  },
  {
   "cell_type": "code",
   "execution_count": 7,
   "id": "b6342626-9d9f-4581-92b0-18d4cec36061",
   "metadata": {},
   "outputs": [
    {
     "name": "stdout",
     "output_type": "stream",
     "text": [
      "\n",
      "Cross-Validation Results for Regularized Random Forest:\n",
      "Mean Absolute Error (MAE): 7.2813\n",
      "Mean Squared Error (MSE): 77.0233\n",
      "Root Mean Squared Error (RMSE): 8.7763\n",
      "R² Score: 0.1254\n",
      "\n",
      " Final Random Forest Model Trained on Full Dataset\n"
     ]
    }
   ],
   "source": [
    "from sklearn.ensemble import RandomForestRegressor\n",
    "from sklearn.model_selection import cross_val_predict, KFold\n",
    "from sklearn.metrics import mean_absolute_error, mean_squared_error, r2_score\n",
    "import numpy as np\n",
    "\n",
    "rf_model = RandomForestRegressor(\n",
    "    n_estimators=2000,          # Large number of trees\n",
    "    max_depth=50,               # Limit depth to prevent overfitting\n",
    "    random_state=42,            # Set a fixed seed for reproducibility\n",
    "    n_jobs=-1,                  # Use all available CPU cores\n",
    "    bootstrap=True,             # Enable bootstrapping (default)\n",
    "    max_samples=0.8             # Each tree sees x% of the training data\n",
    ")\n",
    "\n",
    "\n",
    "cv = KFold(n_splits=10, shuffle=True, random_state=42)  \n",
    "y_pred_cv = cross_val_predict(rf_model, X_scaled_df, y, cv=cv)\n",
    "mae = mean_absolute_error(y, y_pred_cv)\n",
    "mse = mean_squared_error(y, y_pred_cv)\n",
    "rmse = np.sqrt(mse)\n",
    "r2 = r2_score(y, y_pred_cv)\n",
    "\n",
    "print(\"\\nCross-Validation Results for Regularized Random Forest:\")\n",
    "print(f\"Mean Absolute Error (MAE): {mae:.4f}\")\n",
    "print(f\"Mean Squared Error (MSE): {mse:.4f}\")\n",
    "print(f\"Root Mean Squared Error (RMSE): {rmse:.4f}\")\n",
    "print(f\"R² Score: {r2:.4f}\")\n",
    "\n",
    "rf_model.fit(X_scaled_df, y)\n",
    "print(\"\\n Final Random Forest Model Trained on Full Dataset\")"
   ]
  },
  {
   "cell_type": "code",
   "execution_count": 12,
   "id": "97a940b7-9e5b-4f76-b23c-92cd49908f6b",
   "metadata": {},
   "outputs": [
    {
     "name": "stderr",
     "output_type": "stream",
     "text": [
      "/var/folders/xk/ynj4qgx137715cr3y98bsflw0000gn/T/ipykernel_42826/2144096030.py:13: FutureWarning: \n",
      "\n",
      "Passing `palette` without assigning `hue` is deprecated and will be removed in v0.14.0. Assign the `y` variable to `hue` and set `legend=False` for the same effect.\n",
      "\n",
      "  sns.barplot(x=sorted_importances[:20], y=sorted_features[:20], palette=\"viridis\")\n"
     ]
    },
    {
     "data": {
      "image/png": "[encoded data removed]",
      "text/plain": [
       "<Figure size 1200x600 with 1 Axes>"
      ]
     },
     "metadata": {},
     "output_type": "display_data"
    }
   ],
   "source": [
    "import matplotlib.pyplot as plt\n",
    "import seaborn as sns\n",
    "import numpy as np\n",
    "\n",
    "\n",
    "feature_importances = rf_model.feature_importances_\n",
    "feature_names = X_scaled_df.columns\n",
    "sorted_indices = np.argsort(feature_importances)[::-1]\n",
    "sorted_features = np.array(feature_names)[sorted_indices]\n",
    "sorted_importances = feature_importances[sorted_indices]\n",
    "\n",
    "plt.figure(figsize=(12, 6))\n",
    "sns.barplot(x=sorted_importances[:20], y=sorted_features[:20], palette=\"viridis\")\n",
    "plt.yticks(fontname=\"Times New Roman\")\n",
    "plt.xticks(fontname=\"Times New Roman\")\n",
    "plt.savefig(\"feature_importance_plot.png\", dpi=300, bbox_inches='tight')\n",
    "plt.show()\n"
   ]
  },
  {
   "cell_type": "code",
   "execution_count": null,
   "id": "37b3d01b-54dd-4eb0-beb9-f91460c38563",
   "metadata": {},
   "outputs": [],
   "source": []
  }
 ],
 "metadata": {
  "kernelspec": {
   "display_name": "Python 3 (ipykernel)",
   "language": "python",
   "name": "python3"
  },
  "language_info": {
   "codemirror_mode": {
    "name": "ipython",
    "version": 3
   },
   "file_extension": ".py",
   "mimetype": "text/x-python",
   "name": "python",
   "nbconvert_exporter": "python",
   "pygments_lexer": "ipython3",
   "version": "3.12.4"
  }
 },
 "nbformat": 4,
 "nbformat_minor": 5
}
